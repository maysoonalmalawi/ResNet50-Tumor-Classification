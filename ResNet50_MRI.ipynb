{
  "nbformat": 4,
  "nbformat_minor": 0,
  "metadata": {
    "colab": {
      "provenance": []
    },
    "kernelspec": {
      "name": "python3",
      "display_name": "Python 3"
    },
    "language_info": {
      "name": "python"
    }
  },
  "cells": [
    {
      "cell_type": "markdown",
      "source": [
        "Note: To be able to run this you need to have the dataset uploaded on your drive as a zip file.\n",
        "\n",
        "You can find it here:\n",
        "https://www.kaggle.com/datasets/denizkavi1/brain-tumor/data"
      ],
      "metadata": {
        "id": "KJH2Z0xbjsZ2"
      }
    },
    {
      "cell_type": "code",
      "execution_count": null,
      "metadata": {
        "colab": {
          "base_uri": "https://localhost:8080/"
        },
        "id": "ZUssR-oj48jO",
        "outputId": "78fd23db-1c80-483b-9c45-fc41bb59b095"
      },
      "outputs": [
        {
          "output_type": "stream",
          "name": "stdout",
          "text": [
            "Mounted at /content/drive\n"
          ]
        }
      ],
      "source": [
        "# Import drive\n",
        "from google.colab import drive\n",
        "drive.mount('/content/drive')"
      ]
    },
    {
      "cell_type": "code",
      "source": [
        "# Unzip the file\n",
        "!unzip /content/drive/MyDrive/archive.zip"
      ],
      "metadata": {
        "id": "L0S2FRFw5FKc"
      },
      "execution_count": null,
      "outputs": []
    },
    {
      "cell_type": "code",
      "source": [
        "# Needed imports\n",
        "\n",
        "import os\n",
        "import numpy as np\n",
        "import pandas as pd\n",
        "import matplotlib.pyplot as plt\n",
        "from PIL import Image\n",
        "from sklearn.model_selection import train_test_split\n",
        "import tensorflow as tf\n",
        "from tensorflow.keras import layers, models, applications\n",
        "from tensorflow.keras.utils import to_categorical\n",
        "from sklearn.preprocessing import LabelEncoder\n",
        "import cv2\n",
        "import shutil\n",
        "from tqdm import tqdm"
      ],
      "metadata": {
        "id": "XjqOFGNU5LTv"
      },
      "execution_count": null,
      "outputs": []
    },
    {
      "cell_type": "code",
      "source": [
        "# Create a new folder to combine the three folders\n",
        "folder_name = \"input folder\"\n",
        "folder_path = \"/content/\" + folder_name\n",
        "\n",
        "if not os.path.exists(folder_path):\n",
        "    os.makedirs(folder_path)\n",
        "    print(\"Folder created successfully!\")\n",
        "else:\n",
        "    print(\"Folder already exists.\")"
      ],
      "metadata": {
        "colab": {
          "base_uri": "https://localhost:8080/"
        },
        "id": "Ho4knAEB5OhW",
        "outputId": "75fd0c97-0f7a-461c-e9ee-ace1cdb11ad8"
      },
      "execution_count": null,
      "outputs": [
        {
          "output_type": "stream",
          "name": "stdout",
          "text": [
            "Folder created successfully!\n"
          ]
        }
      ]
    },
    {
      "cell_type": "code",
      "source": [
        "# Move the three folders to the new folder\n",
        "source_folders = [\"/content/1\", \"/content/2\", \"/content/3\"]\n",
        "destination_folder = \"/content/input folder\"\n",
        "\n",
        "if not os.path.exists(destination_folder):\n",
        "    os.makedirs(destination_folder)\n",
        "    print(\"Destination folder created successfully!\")\n",
        "\n",
        "for source_folder in source_folders:\n",
        "    if os.path.exists(source_folder):\n",
        "        folder_name = os.path.basename(source_folder)\n",
        "        destination_path = os.path.join(destination_folder, folder_name)\n",
        "        shutil.move(source_folder, destination_path)\n",
        "        print(f\"Folder '{folder_name}' moved successfully!\")\n",
        "    else:\n",
        "        print(f\"Source folder '{source_folder}' does not exist.\")"
      ],
      "metadata": {
        "colab": {
          "base_uri": "https://localhost:8080/"
        },
        "id": "koYyp23F5QtM",
        "outputId": "e3b8ea7b-081c-4f30-e5a7-1b179cb5a664"
      },
      "execution_count": null,
      "outputs": [
        {
          "output_type": "stream",
          "name": "stdout",
          "text": [
            "Folder '1' moved successfully!\n",
            "Folder '2' moved successfully!\n",
            "Folder '3' moved successfully!\n"
          ]
        }
      ]
    },
    {
      "cell_type": "code",
      "source": [
        "# Define the folder name and the tumor types\n",
        "data_folder = \"/content/input folder\"\n",
        "tumor_types = [\"meningioma\", \"glioma\", \"pituitary\"]\n",
        "\n",
        "# Create arrays for the images and labels\n",
        "image_paths = []\n",
        "labels = []"
      ],
      "metadata": {
        "id": "xj-DoNwc5RDR"
      },
      "execution_count": null,
      "outputs": []
    },
    {
      "cell_type": "code",
      "source": [
        "# Define functions for image preprocessing\n",
        "def preprocess_image(img_path, resize_dim=(224, 224), convert_to_gray=False):\n",
        "    img = cv2.imread(img_path, cv2.IMREAD_COLOR)\n",
        "    if img is not None:\n",
        "        if convert_to_gray:\n",
        "            img = cv2.cvtColor(img, cv2.COLOR_BGR2GRAY)\n",
        "        if resize_dim:\n",
        "            img = cv2.resize(img, resize_dim)\n",
        "    return img\n",
        "def load_images_from_folder(folder, resize_dim=(224, 224), convert_to_gray=False):\n",
        "    images = []\n",
        "    labels = []\n",
        "    for tumor_type_idx, tumor_type in enumerate(tumor_types, start=1):\n",
        "        tumor_folder = os.path.join(folder, str(tumor_type_idx))\n",
        "        for filename in tqdm(os.listdir(tumor_folder), desc=f\"Loading {tumor_type} images\"):\n",
        "            img_path = os.path.join(tumor_folder, filename)\n",
        "            img = preprocess_image(img_path, resize_dim=resize_dim, convert_to_gray=convert_to_gray)\n",
        "            if img is not None:\n",
        "                images.append(img)\n",
        "                labels.append(tumor_type)\n",
        "    return images, labels"
      ],
      "metadata": {
        "id": "jn3NvPVL5RG4"
      },
      "execution_count": null,
      "outputs": []
    },
    {
      "cell_type": "code",
      "source": [
        "# Load and preprocess images\n",
        "images, labels = load_images_from_folder(data_folder, resize_dim=(224, 224), convert_to_gray=True)\n",
        "\n",
        "# Convert images to RGB if they are in grayscale\n",
        "rgb_img = [cv2.cvtColor(img, cv2.COLOR_GRAY2RGB) if len(img.shape) == 2 else img for img in images]\n",
        "\n",
        "# Convert lists to NumPy arrays\n",
        "images_array = np.array(rgb_img)\n",
        "labels_array = np.array(labels)"
      ],
      "metadata": {
        "colab": {
          "base_uri": "https://localhost:8080/"
        },
        "id": "NouPVEyM5c8v",
        "outputId": "f14b5e5b-db89-4520-9c40-962b7c8bf0d2"
      },
      "execution_count": null,
      "outputs": [
        {
          "output_type": "stream",
          "name": "stderr",
          "text": [
            "Loading meningioma images: 100%|██████████| 708/708 [00:10<00:00, 65.23it/s]\n",
            "Loading glioma images: 100%|██████████| 1426/1426 [00:19<00:00, 74.24it/s]\n",
            "Loading pituitary images: 100%|██████████| 930/930 [00:14<00:00, 63.70it/s]\n"
          ]
        }
      ]
    },
    {
      "cell_type": "code",
      "source": [
        "# Show Diagram of Tumor Categories\n",
        "unique_labels, counts = np.unique(labels, return_counts=True)\n",
        "\n",
        "# Define a color palette with pink, blue, and yellow\n",
        "colors = ['#FFC0CB', '#ADD8E6', '#FFFF00']\n",
        "\n",
        "plt.pie(counts, labels=unique_labels, autopct='%1.1f%%', colors=colors)\n",
        "plt.title('Distribution of Tumor Categories')\n",
        "plt.show()"
      ],
      "metadata": {
        "colab": {
          "base_uri": "https://localhost:8080/",
          "height": 428
        },
        "id": "3ZpEGbRN67bs",
        "outputId": "8363cb6d-fbe7-4659-a578-609b73e8e82f"
      },
      "execution_count": null,
      "outputs": [
        {
          "output_type": "display_data",
          "data": {
            "text/plain": [
              "<Figure size 640x480 with 1 Axes>"
            ],
            "image/png": "[encoded data removed]"
          },
          "metadata": {}
        }
      ]
    },
    {
      "cell_type": "code",
      "source": [
        "#Split Dataset into Training and Testing Sets\n",
        "train_images, test_images, train_labels, test_labels = train_test_split(rgb_img, labels, test_size=0.2, random_state=42, stratify=labels)"
      ],
      "metadata": {
        "id": "x7NS-PoU7A9c"
      },
      "execution_count": null,
      "outputs": []
    },
    {
      "cell_type": "code",
      "source": [
        "# model\n",
        "# Load the ResNet50 model\n",
        "def create_resnet50_model(input_shape=(224, 224, 3), num_classes=len(tumor_types)):\n",
        "    base_model = applications.ResNet50(weights='imagenet', include_top=False, input_shape=input_shape)\n",
        "\n",
        "    # Freeze the base model's layers\n",
        "    for layer in base_model.layers:\n",
        "        layer.trainable = False\n",
        "\n",
        "    # Create the top layers for classification\n",
        "    model = models.Sequential([\n",
        "        base_model,\n",
        "        layers.Flatten(),\n",
        "        layers.Dense(256, activation='relu'),\n",
        "        layers.Dropout(0.5),\n",
        "        layers.Dense(num_classes, activation='softmax')\n",
        "    ])\n",
        "\n",
        "    return model\n",
        "\n",
        "# Create and compile the model\n",
        "model = create_resnet50_model()\n",
        "model.compile(optimizer='adam', loss='categorical_crossentropy', metrics=['accuracy'])"
      ],
      "metadata": {
        "colab": {
          "base_uri": "https://localhost:8080/"
        },
        "id": "bax1Di7j79xX",
        "outputId": "a5e92f18-a944-4aff-b105-863628a5de0c"
      },
      "execution_count": null,
      "outputs": [
        {
          "output_type": "stream",
          "name": "stdout",
          "text": [
            "Downloading data from https://storage.googleapis.com/tensorflow/keras-applications/resnet/resnet50_weights_tf_dim_ordering_tf_kernels_notop.h5\n",
            "94765736/94765736 [==============================] - 3s 0us/step\n"
          ]
        }
      ]
    },
    {
      "cell_type": "code",
      "source": [
        "# Convert labels to one-hot encoded vectors\n",
        "label_encoder = LabelEncoder()\n",
        "train_labels_encoded = label_encoder.fit_transform(train_labels)\n",
        "test_labels_encoded = label_encoder.transform(test_labels)\n",
        "train_labels_one_hot = to_categorical(train_labels_encoded)\n",
        "test_labels_one_hot = to_categorical(test_labels_encoded)\n"
      ],
      "metadata": {
        "id": "uxEuEip-8ggw"
      },
      "execution_count": null,
      "outputs": []
    },
    {
      "cell_type": "code",
      "source": [
        "# Train the model\n",
        "\n",
        "model.fit(np.array(train_images), train_labels_one_hot, epochs=10, batch_size=32, validation_split=0.2)"
      ],
      "metadata": {
        "colab": {
          "base_uri": "https://localhost:8080/"
        },
        "id": "blYkxUvp8-k4",
        "outputId": "d67afed1-2163-4067-e8eb-32e77b3dae0e"
      },
      "execution_count": null,
      "outputs": [
        {
          "output_type": "stream",
          "name": "stdout",
          "text": [
            "Epoch 1/10\n",
            "62/62 [==============================] - 632s 10s/step - loss: 12.3375 - accuracy: 0.7449 - val_loss: 0.8258 - val_accuracy: 0.8330\n",
            "Epoch 2/10\n",
            "62/62 [==============================] - 632s 10s/step - loss: 0.4313 - accuracy: 0.8520 - val_loss: 0.5869 - val_accuracy: 0.8574\n",
            "Epoch 3/10\n",
            "62/62 [==============================] - 635s 10s/step - loss: 0.3518 - accuracy: 0.8607 - val_loss: 0.7330 - val_accuracy: 0.8411\n",
            "Epoch 4/10\n",
            "62/62 [==============================] - 599s 10s/step - loss: 0.3586 - accuracy: 0.8694 - val_loss: 0.4790 - val_accuracy: 0.8900\n",
            "Epoch 5/10\n",
            "62/62 [==============================] - 607s 10s/step - loss: 0.2450 - accuracy: 0.9041 - val_loss: 0.4903 - val_accuracy: 0.8737\n",
            "Epoch 6/10\n",
            "62/62 [==============================] - 624s 10s/step - loss: 0.2358 - accuracy: 0.9036 - val_loss: 0.4782 - val_accuracy: 0.8961\n",
            "Epoch 7/10\n",
            "62/62 [==============================] - 618s 10s/step - loss: 0.2093 - accuracy: 0.9214 - val_loss: 0.5247 - val_accuracy: 0.9063\n",
            "Epoch 8/10\n",
            "62/62 [==============================] - 620s 10s/step - loss: 0.2223 - accuracy: 0.9204 - val_loss: 0.5307 - val_accuracy: 0.8900\n",
            "Epoch 9/10\n",
            "62/62 [==============================] - 590s 10s/step - loss: 0.2155 - accuracy: 0.9173 - val_loss: 0.5412 - val_accuracy: 0.9206\n",
            "Epoch 10/10\n",
            "62/62 [==============================] - 631s 10s/step - loss: 0.1669 - accuracy: 0.9332 - val_loss: 0.6219 - val_accuracy: 0.9165\n"
          ]
        },
        {
          "output_type": "execute_result",
          "data": {
            "text/plain": [
              "<keras.src.callbacks.History at 0x7ba4441c2ad0>"
            ]
          },
          "metadata": {},
          "execution_count": 22
        }
      ]
    },
    {
      "cell_type": "code",
      "source": [
        "# Test the model's performance\n",
        "\n",
        "test_loss, test_accuracy = model.evaluate(np.array(test_images), test_labels_one_hot)\n",
        "print(f'Test Loss: {test_loss:.4f}, Test Accuracy: {test_accuracy:.4f}')"
      ],
      "metadata": {
        "colab": {
          "base_uri": "https://localhost:8080/"
        },
        "id": "j5Ypd3hSaf9d",
        "outputId": "40a1d3b3-441a-4aed-c63a-a9d8e10c0d49"
      },
      "execution_count": null,
      "outputs": [
        {
          "output_type": "stream",
          "name": "stdout",
          "text": [
            "20/20 [==============================] - 136s 7s/step - loss: 0.3605 - accuracy: 0.9233\n",
            "Test Loss: 0.3605, Test Accuracy: 0.9233\n"
          ]
        }
      ]
    },
    {
      "cell_type": "code",
      "source": [
        "# Visualize the test loss and accuracy\n",
        "\n",
        "# Set the width of the bars\n",
        "bar_width = 0.5\n",
        "\n",
        "# Set the positions of the bars on the x-axis\n",
        "bar_positions = np.arange(2)\n",
        "\n",
        "# Plotting the test loss and accuracy\n",
        "plt.figure(figsize=(6, 6))\n",
        "plt.bar(bar_positions, [test_loss, test_accuracy], width=bar_width, color=['#FFC0CB', '#ADD8E6'])\n",
        "\n",
        "# Adjusting the x-tick labels position\n",
        "plt.xticks(bar_positions, ['Test Loss', 'Test Accuracy'])\n",
        "plt.xlim(-0.5, 1.5)\n",
        "\n",
        "# Adding labels and title\n",
        "plt.ylabel('Value')\n",
        "plt.title('Test Loss and Accuracy')\n",
        "\n",
        "plt.show()"
      ],
      "metadata": {
        "colab": {
          "base_uri": "https://localhost:8080/",
          "height": 545
        },
        "id": "Xv_NOTsVubQM",
        "outputId": "2063ee8c-a6dd-4acd-fea8-a97e9868b7a1"
      },
      "execution_count": null,
      "outputs": [
        {
          "output_type": "display_data",
          "data": {
            "text/plain": [
              "<Figure size 600x600 with 1 Axes>"
            ],
            "image/png": "[encoded data removed]"
          },
          "metadata": {}
        }
      ]
    }
  ]
}